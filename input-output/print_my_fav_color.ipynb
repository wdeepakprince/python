{
  "nbformat": 4,
  "nbformat_minor": 0,
  "metadata": {
    "colab": {
      "provenance": [],
      "authorship_tag": "ABX9TyP1LljMZZ+eULzxm305xKEA",
      "include_colab_link": true
    },
    "kernelspec": {
      "name": "python3",
      "display_name": "Python 3"
    },
    "language_info": {
      "name": "python"
    }
  },
  "cells": [
    {
      "cell_type": "markdown",
      "metadata": {
        "id": "view-in-github",
        "colab_type": "text"
      },
      "source": [
        "<a href=\"https://colab.research.google.com/github/wdeepakprince/python/blob/main/input-output/print_my_fav_color.ipynb\" target=\"_parent\"><img src=\"https://colab.research.google.com/assets/colab-badge.svg\" alt=\"Open In Colab\"/></a>"
      ]
    },
    {
      "cell_type": "code",
      "execution_count": null,
      "metadata": {
        "id": "qJ_ksQjmJrwl"
      },
      "outputs": [],
      "source": [
        "print(\"------------------------------\")\n",
        "print(\"         My Favourite         \")\n",
        "print(\"            Colors            \")\n",
        "print(\"------------------------------\")\n",
        "print(\"              Red             \")\n",
        "print(\"             Green            \")\n",
        "print(\"              Blue            \")\n",
        "print(\"             Yellow           \")\n",
        "print(\"             Orange           \")\n",
        "print(\"------------------------------\")"
      ]
    }
  ]
}
